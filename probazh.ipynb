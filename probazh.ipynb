{
 "cells": [
  {
   "cell_type": "markdown",
   "metadata": {},
   "source": [
    "## Próba ZH\n",
    "\n",
    "Megoldásainkat csomagoljuk feladatonként 1-1 függvénybe. Továbbá készítsünk egy script fájlt, ami meghívja ezeket alkalmas bemeneti paraméterekkel."
   ]
  },
  {
   "cell_type": "markdown",
   "metadata": {},
   "source": [
    "#### 1. Feladat:\n",
    "\n",
    "Írjunk függvényt egy vektor $\\| \\cdot \\|_p$ normájának kiszámítására $(\\pi^\\pi > p > 0)$. A kódunkban ne szerepeljen ciklus."
   ]
  },
  {
   "cell_type": "code",
   "execution_count": null,
   "metadata": {},
   "outputs": [],
   "source": []
  },
  {
   "cell_type": "markdown",
   "metadata": {},
   "source": [
    "#### 2. Feladat:\n",
    "\n",
    "Tegyük fel, hogy adott egy karakterlánc. Írjunk függvényt, ami megadja, hogy hány 'b' betűt tartalmaz."
   ]
  },
  {
   "cell_type": "code",
   "execution_count": null,
   "metadata": {},
   "outputs": [],
   "source": []
  },
  {
   "cell_type": "markdown",
   "metadata": {},
   "source": [
    "#### 3. Feladat:\n",
    "\n",
    "Írjunk függvényt, ami eldönti egy mátrixról, hogy a négyzetének sajátértéke-e a 2."
   ]
  },
  {
   "cell_type": "code",
   "execution_count": null,
   "metadata": {},
   "outputs": [],
   "source": []
  },
  {
   "cell_type": "markdown",
   "metadata": {},
   "source": [
    "#### 4. Feladat:\n",
    "\n",
    "Írjunk függvényt, ami egyenletes eloszlás szerint generál pontokat az egységnégyzetben, majd ezeket ábrázolja is."
   ]
  },
  {
   "cell_type": "code",
   "execution_count": null,
   "metadata": {},
   "outputs": [],
   "source": []
  }
 ],
 "metadata": {
  "kernelspec": {
   "display_name": "Octave",
   "language": "octave",
   "name": "octave"
  },
  "language_info": {
   "file_extension": ".m",
   "help_links": [
    {
     "text": "GNU Octave",
     "url": "https://www.gnu.org/software/octave/support.html"
    },
    {
     "text": "Octave Kernel",
     "url": "https://github.com/Calysto/octave_kernel"
    },
    {
     "text": "MetaKernel Magics",
     "url": "https://metakernel.readthedocs.io/en/latest/source/README.html"
    }
   ],
   "mimetype": "text/x-octave",
   "name": "octave",
   "version": "5.2.0"
  }
 },
 "nbformat": 4,
 "nbformat_minor": 4
}
