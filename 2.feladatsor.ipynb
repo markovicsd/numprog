{
 "cells": [
  {
   "cell_type": "markdown",
   "metadata": {},
   "source": [
    "## 2. Feladatsor \n",
    "\n",
    "Fibonacci-számok:\n",
    "\n",
    "\\begin{align}\n",
    "F_0 &= 0 \\\\ \n",
    "F_1 &= 1 \\\\\n",
    "F_{n+2} &= F_{n} + F_{n+1} \\quad (n \\in \\mathbb{N})\n",
    "\\end{align}"
   ]
  },
  {
   "cell_type": "markdown",
   "metadata": {},
   "source": [
    "### 0.feladat: Egy kis ismétlés (ciklusok)\n",
    "\n",
    "Írjunk for-ciklus alapú függvényt $F_n$ kiszámítására."
   ]
  },
  {
   "cell_type": "code",
   "execution_count": 1,
   "metadata": {},
   "outputs": [],
   "source": [
    "function b = fibonacci(n)\n",
    "    if n <= 0\n",
    "        b = 0;\n",
    "        return;\n",
    "    end\n",
    "    \n",
    "    a = 0; b = 1;\n",
    "    for k=2:n\n",
    "        c = a;\n",
    "        a = b;\n",
    "        b = b + c;\n",
    "    end\n",
    "end"
   ]
  },
  {
   "cell_type": "code",
   "execution_count": 2,
   "metadata": {},
   "outputs": [],
   "source": [
    "function b = fibonacci(n)\n",
    "   if n <= 0\n",
    "      b = 0; \n",
    "      return\n",
    "   end\n",
    "   \n",
    "   [a, b] = {0, 1}{:};\n",
    "   for k=2:n\n",
    "       % a, b = b, a+b\n",
    "       [a, b] = {b, a+b}{:};\n",
    "   end\n",
    "end"
   ]
  },
  {
   "cell_type": "code",
   "execution_count": 3,
   "metadata": {},
   "outputs": [
    {
     "name": "stdout",
     "output_type": "stream",
     "text": [
      "ans =  1\n"
     ]
    }
   ],
   "source": [
    "fibonacci(1)"
   ]
  },
  {
   "cell_type": "markdown",
   "metadata": {},
   "source": [
    "futásidő meghatározása"
   ]
  },
  {
   "cell_type": "code",
   "execution_count": 4,
   "metadata": {},
   "outputs": [
    {
     "name": "stdout",
     "output_type": "stream",
     "text": [
      "ans =  55\n",
      "Elapsed time is 0.00455213 seconds.\n"
     ]
    }
   ],
   "source": [
    "tic\n",
    "fibonacci(10)\n",
    "toc"
   ]
  },
  {
   "cell_type": "markdown",
   "metadata": {},
   "source": [
    "### 1.feladat: Rekurzió\n",
    "\n",
    "Írjunk rekurzív függvényt $F_n$ kiszámítására."
   ]
  },
  {
   "cell_type": "code",
   "execution_count": 5,
   "metadata": {},
   "outputs": [],
   "source": [
    "function fn = fibonacci(n)\n",
    "   if n <= 0\n",
    "      fn = 0\n",
    "   elseif n == 1\n",
    "      fn = 1\n",
    "   else\n",
    "      fn = fibonacci(n-1) + fibonacci(n-2)\n",
    "   end\n",
    "end"
   ]
  },
  {
   "cell_type": "code",
   "execution_count": 6,
   "metadata": {},
   "outputs": [
    {
     "name": "stdout",
     "output_type": "stream",
     "text": [
      "fn =  1\n",
      "fn = 0\n",
      "fn =  1\n",
      "fn =  1\n",
      "fn =  2\n",
      "fn =  1\n",
      "fn = 0\n",
      "fn =  1\n",
      "fn =  3\n",
      "ans =  3\n"
     ]
    }
   ],
   "source": [
    "fibonacci(4)"
   ]
  },
  {
   "cell_type": "markdown",
   "metadata": {},
   "source": [
    "Vizsgáljuk meg, hogy hány függvényhívás történt. Milyen számsorozatot tapasztalunk? Mi ennek a magyarázata?"
   ]
  },
  {
   "cell_type": "code",
   "execution_count": 7,
   "metadata": {},
   "outputs": [],
   "source": [
    "function counts = fibonacci_cc(n)\n",
    "    counts = zeros(1, n+1);\n",
    "    \n",
    "    function fn = fibonacci(n)\n",
    "       counts(n+1) += 1;\n",
    "       if n <= 0\n",
    "          fn = 0;\n",
    "       elseif n == 1\n",
    "          fn = 1;\n",
    "       else\n",
    "          fn = fibonacci(n-1) + fibonacci(n-2);\n",
    "       end\n",
    "    end\n",
    "    fibonacci(n);\n",
    "end"
   ]
  },
  {
   "cell_type": "code",
   "execution_count": 8,
   "metadata": {},
   "outputs": [
    {
     "name": "stdout",
     "output_type": "stream",
     "text": [
      "ans =\n",
      "\n",
      "   34   55   34   21   13    8    5    3    2    1    1\n",
      "\n"
     ]
    }
   ],
   "source": [
    "fibonacci_cc(10)"
   ]
  },
  {
   "cell_type": "markdown",
   "metadata": {},
   "source": [
    "Ábrázoljuk a kapott számokat."
   ]
  },
  {
   "cell_type": "code",
   "execution_count": 9,
   "metadata": {},
   "outputs": [
    {
     "data": {
      "image/png": "[encoded data removed]",
      "text/plain": [
       "<IPython.core.display.Image object>"
      ]
     },
     "metadata": {},
     "output_type": "display_data"
    }
   ],
   "source": [
    "plot(0:10, fibonacci_cc(10), 'o-'); hold on\n",
    "plot(0:13, fibonacci_cc(13), 'o-')"
   ]
  },
  {
   "cell_type": "markdown",
   "metadata": {},
   "source": [
    "Mentsük meg a rekurzív megoldást!"
   ]
  },
  {
   "cell_type": "code",
   "execution_count": 10,
   "metadata": {},
   "outputs": [],
   "source": [
    "function fn = fibonacci_cached(n)\n",
    "    fibs = - ones(1, n+1);\n",
    "    fibs(0 +1) = 0;\n",
    "    fibs(1 +1) = 1;\n",
    "    \n",
    "    function fn = fibonacci(n)\n",
    "       if fibs(n) == -1\n",
    "           fn = fibonacci(n-1) + fibonacci(n-2);\n",
    "           fibs(n) = fn;\n",
    "       else\n",
    "           fn = fibs(n);\n",
    "       end\n",
    "    end\n",
    "    \n",
    "    fn = fibonacci(n);\n",
    "end"
   ]
  },
  {
   "cell_type": "code",
   "execution_count": 11,
   "metadata": {},
   "outputs": [
    {
     "name": "stdout",
     "output_type": "stream",
     "text": [
      "ans =    2.1892e+20\n",
      "Elapsed time is 0.0101421 seconds.\n"
     ]
    }
   ],
   "source": [
    "tic\n",
    "fibonacci_cached(100)\n",
    "toc"
   ]
  },
  {
   "cell_type": "code",
   "execution_count": 12,
   "metadata": {},
   "outputs": [],
   "source": [
    "function wrapped = simple_cacher(cache, fun)\n",
    "    \n",
    "    function r = wrapped_fun(n)\n",
    "        if isKey(n, cache)\n",
    "            r = cache(n);\n",
    "        else\n",
    "            r = fun(n);\n",
    "            cache(n) = r;\n",
    "        end\n",
    "    end\n",
    "    wrapped = @wrapped_fun;\n",
    "end\n",
    "\n",
    "% python: @lru_cache"
   ]
  },
  {
   "cell_type": "code",
   "execution_count": 13,
   "metadata": {},
   "outputs": [
    {
     "name": "stdout",
     "output_type": "stream",
     "text": [
      "error: handles to nested functions are not yet supported\n",
      "error: called from\n",
      "    simple_cacher at line 9 column 13\n"
     ]
    }
   ],
   "source": [
    "fibonacci_sc = simple_cacher(containers.Map('KeyType','int32','ValueType','int64'),\n",
    "                             @fibonacci)"
   ]
  },
  {
   "cell_type": "markdown",
   "metadata": {},
   "source": [
    "Talán egyszer..."
   ]
  },
  {
   "cell_type": "markdown",
   "metadata": {},
   "source": [
    "### 2.feladat: Mátrixok, zárt formula\n",
    "\n",
    "Számítsuk ki az $F_n$ értéket mátrixok segítségével."
   ]
  },
  {
   "cell_type": "code",
   "execution_count": 14,
   "metadata": {},
   "outputs": [
    {
     "name": "stdout",
     "output_type": "stream",
     "text": [
      "A =\n",
      "\n",
      "   1   1\n",
      "   1   0\n",
      "\n",
      "x =\n",
      "\n",
      "   1\n",
      "   0\n",
      "\n"
     ]
    }
   ],
   "source": [
    "A = [1 1\n",
    "     1 0]\n",
    "x = [1\n",
    "     0]"
   ]
  },
  {
   "cell_type": "code",
   "execution_count": 15,
   "metadata": {},
   "outputs": [
    {
     "name": "stdout",
     "output_type": "stream",
     "text": [
      "ans =\n",
      "\n",
      "   13\n",
      "    8\n",
      "\n"
     ]
    }
   ],
   "source": [
    "A^6 * x"
   ]
  },
  {
   "cell_type": "markdown",
   "metadata": {},
   "source": [
    "gyors hatvanyozas: $A^{2^k}$"
   ]
  },
  {
   "cell_type": "code",
   "execution_count": 16,
   "metadata": {},
   "outputs": [],
   "source": [
    "% 6 = 2 + 4\n",
    "% A^6 = A^2 * A^4"
   ]
  },
  {
   "cell_type": "markdown",
   "metadata": {},
   "source": [
    "Diagonalizáljuk a megfelelő mátrixot, majd ebből vezessük le $F_n$ zárt képletét, végül írjunk programot, ami ezen képlet segitségével kiszámítja $F_n$ értékét."
   ]
  },
  {
   "cell_type": "code",
   "execution_count": 17,
   "metadata": {},
   "outputs": [
    {
     "name": "stdout",
     "output_type": "stream",
     "text": [
      "V =\n",
      "\n",
      "   0.52573  -0.85065\n",
      "  -0.85065  -0.52573\n",
      "\n",
      "LAM =\n",
      "\n",
      "Diagonal Matrix\n",
      "\n",
      "  -0.61803         0\n",
      "         0   1.61803\n",
      "\n"
     ]
    }
   ],
   "source": [
    "[V, LAM] = eig(A)"
   ]
  },
  {
   "cell_type": "code",
   "execution_count": 18,
   "metadata": {},
   "outputs": [
    {
     "name": "stdout",
     "output_type": "stream",
     "text": [
      "ans = -0.61803\n",
      "ans =  1.6180\n"
     ]
    }
   ],
   "source": [
    "(1- sqrt(5))/2, (1 + sqrt(5))/2"
   ]
  },
  {
   "cell_type": "code",
   "execution_count": 19,
   "metadata": {},
   "outputs": [
    {
     "name": "stdout",
     "output_type": "stream",
     "text": [
      "ans =\n",
      "\n",
      "   13    8\n",
      "    8    5\n",
      "\n",
      "ans =\n",
      "\n",
      "   13.0000    8.0000\n",
      "    8.0000    5.0000\n",
      "\n",
      "ans =\n",
      "\n",
      "   13.0000    8.0000\n",
      "    8.0000    5.0000\n",
      "\n"
     ]
    }
   ],
   "source": [
    "A^6\n",
    "inv(V) * LAM^6 * V\n",
    "\n",
    "V \\ LAM^6 * V"
   ]
  },
  {
   "cell_type": "code",
   "execution_count": 20,
   "metadata": {},
   "outputs": [
    {
     "name": "stdout",
     "output_type": "stream",
     "text": [
      "A =\n",
      "\n",
      "   1   1\n",
      "   1   0\n",
      "\n",
      "V =\n",
      "\n",
      "   0.52573  -0.85065\n",
      "  -0.85065  -0.52573\n",
      "\n",
      "ans =\n",
      "\n",
      "   0.52573  -0.85065\n",
      "  -0.85065  -0.52573\n",
      "\n"
     ]
    }
   ],
   "source": [
    "A\n",
    "V\n",
    "inv(V)"
   ]
  },
  {
   "cell_type": "code",
   "execution_count": 21,
   "metadata": {},
   "outputs": [
    {
     "name": "stdout",
     "output_type": "stream",
     "text": [
      "ans =\n",
      "\n",
      "   13.0000\n",
      "    8.0000\n",
      "\n"
     ]
    }
   ],
   "source": [
    "V \\ LAM^6 * (V * [1; 0])"
   ]
  },
  {
   "cell_type": "code",
   "execution_count": 22,
   "metadata": {},
   "outputs": [
    {
     "name": "stdout",
     "output_type": "stream",
     "text": [
      "ans =  13.000\n"
     ]
    }
   ],
   "source": [
    "V(1:1, 1:end) * LAM^6 * V * [1;0]"
   ]
  },
  {
   "cell_type": "code",
   "execution_count": 23,
   "metadata": {},
   "outputs": [
    {
     "name": "stdout",
     "output_type": "stream",
     "text": [
      "ans =  13.000\n"
     ]
    }
   ],
   "source": [
    "V(1, :) * LAM^6 * V(:, 1)\n",
    "\n",
    "% v' * D * v"
   ]
  },
  {
   "cell_type": "code",
   "execution_count": 24,
   "metadata": {},
   "outputs": [
    {
     "name": "stdout",
     "output_type": "stream",
     "text": [
      "ans =  13.000\n"
     ]
    }
   ],
   "source": [
    "LAM(1,1)^6 * V(1,1)^2 + LAM(2,2)^6 * V(1,2)^2"
   ]
  },
  {
   "cell_type": "code",
   "execution_count": 25,
   "metadata": {},
   "outputs": [],
   "source": [
    "function fn = closedfib(n)\n",
    "\n",
    "end"
   ]
  },
  {
   "cell_type": "code",
   "execution_count": 26,
   "metadata": {},
   "outputs": [
    {
     "name": "stdout",
     "output_type": "stream",
     "text": [
      "Elapsed time is 0.0119221 seconds.\n"
     ]
    }
   ],
   "source": [
    "tic\n",
    "closedfib(100)\n",
    "toc"
   ]
  }
 ],
 "metadata": {
  "kernelspec": {
   "display_name": "Octave",
   "language": "octave",
   "name": "octave"
  },
  "language_info": {
   "file_extension": ".m",
   "help_links": [
    {
     "text": "GNU Octave",
     "url": "https://www.gnu.org/software/octave/support.html"
    },
    {
     "text": "Octave Kernel",
     "url": "https://github.com/Calysto/octave_kernel"
    },
    {
     "text": "MetaKernel Magics",
     "url": "https://metakernel.readthedocs.io/en/latest/source/README.html"
    }
   ],
   "mimetype": "text/x-octave",
   "name": "octave",
   "version": "5.2.0"
  }
 },
 "nbformat": 4,
 "nbformat_minor": 4
}
