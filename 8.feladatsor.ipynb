{
 "cells": [
  {
   "cell_type": "markdown",
   "metadata": {},
   "source": [
    "## 8. Feladatsor\n",
    "\n",
    "Numerikus aritmetika, polinomok"
   ]
  },
  {
   "cell_type": "markdown",
   "metadata": {},
   "source": [
    "#### 0. Feladat:\n",
    "\n",
    "Közelítsük $e$ értékét a\n",
    "$$\n",
    "\\sum_{k=0}^{15} \\frac{1}{k!}\n",
    "$$\n",
    "formulával, single precision számokat használva."
   ]
  },
  {
   "cell_type": "markdown",
   "metadata": {},
   "source": [
    "a) Végezzük el az összegzést előről."
   ]
  },
  {
   "cell_type": "code",
   "execution_count": 1,
   "metadata": {},
   "outputs": [
    {
     "name": "stdout",
     "output_type": "stream",
     "text": [
      "s = 0\n"
     ]
    }
   ],
   "source": [
    "s = single(0)"
   ]
  },
  {
   "cell_type": "markdown",
   "metadata": {},
   "source": [
    "b) Végezzük el az összegzést hátulról."
   ]
  },
  {
   "cell_type": "code",
   "execution_count": null,
   "metadata": {},
   "outputs": [],
   "source": []
  },
  {
   "cell_type": "markdown",
   "metadata": {},
   "source": [
    "c) Mit várunk, jobb lesz valamelyik közelítés? Miért? Hasonlítsuk össze a két értéket $e$-vel. Melyik a pontosabb?"
   ]
  },
  {
   "cell_type": "code",
   "execution_count": 2,
   "metadata": {},
   "outputs": [
    {
     "name": "stdout",
     "output_type": "stream",
     "text": [
      "ans =  0.0100000\n",
      "ans =  0.00100000\n"
     ]
    }
   ],
   "source": [
    "s1 = e - .01;\n",
    "s2 = e - .001;\n",
    "\n",
    "abs(s1 - e)\n",
    "abs(s2 - e)"
   ]
  },
  {
   "cell_type": "markdown",
   "metadata": {},
   "source": [
    "#### 1. Feladat:\n",
    "\n",
    "Tegyük fel, hogy adott egy vektorunk és ki szeretnénk számolni a koordinátái összegét."
   ]
  },
  {
   "cell_type": "markdown",
   "metadata": {},
   "source": [
    "a) Az előző feladat alapján hogy érdemes elvégezni ezt az összegzést? Írjunk függvényt a naiv és a kevésbé naiv megközelítéshez."
   ]
  },
  {
   "cell_type": "code",
   "execution_count": 3,
   "metadata": {},
   "outputs": [],
   "source": [
    "v = randn(1, 3);"
   ]
  },
  {
   "cell_type": "code",
   "execution_count": 4,
   "metadata": {},
   "outputs": [
    {
     "name": "stdout",
     "output_type": "stream",
     "text": [
      "ans =    1.3878e-17\n"
     ]
    }
   ],
   "source": [
    "w = [v -v];\n",
    "sum(w)"
   ]
  },
  {
   "cell_type": "code",
   "execution_count": 5,
   "metadata": {},
   "outputs": [
    {
     "name": "stdout",
     "output_type": "stream",
     "text": [
      "sorted_w =\n",
      "\n",
      "  -1.085244  -0.169784  -0.018882   0.018882   0.169784   1.085244\n",
      "\n"
     ]
    }
   ],
   "source": [
    "[sorted_w, ixs] = sort(w);\n",
    "\n",
    "sorted_w"
   ]
  },
  {
   "cell_type": "code",
   "execution_count": 6,
   "metadata": {},
   "outputs": [],
   "source": [
    "[_, ixs] = sort(abs(w));"
   ]
  },
  {
   "cell_type": "code",
   "execution_count": 7,
   "metadata": {},
   "outputs": [
    {
     "name": "stdout",
     "output_type": "stream",
     "text": [
      "ans =\n",
      "\n",
      "  -0.018882   0.018882  -0.169784   0.169784   1.085244  -1.085244\n",
      "\n"
     ]
    }
   ],
   "source": [
    "w(ixs)"
   ]
  },
  {
   "cell_type": "code",
   "execution_count": 8,
   "metadata": {},
   "outputs": [
    {
     "name": "stdout",
     "output_type": "stream",
     "text": [
      "ans = 0\n"
     ]
    }
   ],
   "source": [
    "sum(w(ixs))"
   ]
  },
  {
   "cell_type": "markdown",
   "metadata": {},
   "source": [
    "b) Teszteljük függvényeinket. \n",
    "\n",
    "Generáljunk standard normális eloszlású $v$ vektort, majd fűzzük hozzá ellentettjét, és az így kapott $0$ összegű vektor összegét számíttassuk ki a függvényeinkkel. Ezt ismételjük meg néhányszor, az így kapott hibákat ábrázoljuk, számítsuk ki az átlagukat, szórásukat.\n",
    "\n",
    "Alternatívaként a $0$ összegű vektor elkészítése után adjunk még hozzá egy $[0,2,4]$ értékekből álló véletlen vektort, aminek az összegét magabiztosan ki tudjuk számolni."
   ]
  },
  {
   "cell_type": "code",
   "execution_count": 9,
   "metadata": {},
   "outputs": [
    {
     "name": "stdout",
     "output_type": "stream",
     "text": [
      "ans =    2.3130e-18\n",
      "ans =  0.69482\n"
     ]
    },
    {
     "data": {
      "image/png": "[encoded data removed]",
      "text/plain": [
       "<IPython.core.display.Image object>"
      ]
     },
     "metadata": {},
     "output_type": "display_data"
    }
   ],
   "source": [
    "mean(w)\n",
    "std(w)\n",
    "plot(w, 'o-')"
   ]
  },
  {
   "cell_type": "markdown",
   "metadata": {},
   "source": [
    "#### 2. feladat\n",
    "\n",
    "Polinomok."
   ]
  },
  {
   "cell_type": "markdown",
   "metadata": {},
   "source": [
    "a) Hogyan tároljunk polinomokat?"
   ]
  },
  {
   "cell_type": "code",
   "execution_count": 10,
   "metadata": {},
   "outputs": [
    {
     "name": "stdout",
     "output_type": "stream",
     "text": [
      "p =\n",
      "\n",
      "   1   0   1\n",
      "\n"
     ]
    }
   ],
   "source": [
    "% 1 x^2 + 0x + 1\n",
    "p = [1 0 1]"
   ]
  },
  {
   "cell_type": "markdown",
   "metadata": {},
   "source": [
    "b) Hogyan értékeljünk ki polinomokat?"
   ]
  },
  {
   "cell_type": "code",
   "execution_count": 11,
   "metadata": {},
   "outputs": [
    {
     "name": "stdout",
     "output_type": "stream",
     "text": [
      "ans =  2\n"
     ]
    }
   ],
   "source": [
    "polyval(p, 1)"
   ]
  },
  {
   "cell_type": "markdown",
   "metadata": {},
   "source": [
    "c) Hogyan deriváljunk polinomokat?"
   ]
  },
  {
   "cell_type": "code",
   "execution_count": 12,
   "metadata": {},
   "outputs": [
    {
     "name": "stdout",
     "output_type": "stream",
     "text": [
      "ans =\n",
      "\n",
      "   2   0\n",
      "\n"
     ]
    }
   ],
   "source": [
    "polyder(p)"
   ]
  },
  {
   "cell_type": "markdown",
   "metadata": {},
   "source": [
    "d) Hogyan integráljunk polinomokat?"
   ]
  },
  {
   "cell_type": "code",
   "execution_count": 13,
   "metadata": {},
   "outputs": [
    {
     "name": "stdout",
     "output_type": "stream",
     "text": [
      "ans =\n",
      "\n",
      "   0.33333   0.00000   1.00000   0.00000\n",
      "\n"
     ]
    }
   ],
   "source": [
    "polyint(p)"
   ]
  },
  {
   "cell_type": "markdown",
   "metadata": {},
   "source": [
    "e) Hogyan szorozzunk polinomokat?"
   ]
  },
  {
   "cell_type": "code",
   "execution_count": 14,
   "metadata": {},
   "outputs": [
    {
     "name": "stdout",
     "output_type": "stream",
     "text": [
      "ans =\n",
      "\n",
      "   1   0   0\n",
      "\n"
     ]
    }
   ],
   "source": [
    "% (sum_l a_{k-l} b_{l}) x^k\n",
    "conv([1 0], [1 0])"
   ]
  },
  {
   "cell_type": "markdown",
   "metadata": {},
   "source": [
    "f) Hogyan illesszünk polinomokat?"
   ]
  },
  {
   "cell_type": "code",
   "execution_count": 15,
   "metadata": {},
   "outputs": [
    {
     "name": "stdout",
     "output_type": "stream",
     "text": [
      "ans =\n",
      "\n",
      "   1  -0\n",
      "\n"
     ]
    }
   ],
   "source": [
    "polyfit([-1, 0, 1], [-1, 0, 1], 1)"
   ]
  },
  {
   "cell_type": "markdown",
   "metadata": {},
   "source": [
    "g) Hogyan keressünk polinomok gyökeit?"
   ]
  },
  {
   "cell_type": "code",
   "execution_count": 16,
   "metadata": {},
   "outputs": [
    {
     "name": "stdout",
     "output_type": "stream",
     "text": [
      "ans =\n",
      "\n",
      "  -0 + 1i\n",
      "   0 - 1i\n",
      "\n"
     ]
    }
   ],
   "source": [
    "roots(p)"
   ]
  },
  {
   "cell_type": "markdown",
   "metadata": {},
   "source": [
    "#### 3. Feladat\n",
    "\n",
    "Polinomok gyökeinek keresése, [Wilkinson példája](https://en.wikipedia.org/wiki/Wilkinson%27s_polynomial).\n",
    "\n",
    "$$w(x) = \\prod_{k=1}^{20} (x-k)$$"
   ]
  },
  {
   "cell_type": "markdown",
   "metadata": {},
   "source": [
    "a) Számítsuk ki a $w$ polinom együtthatóit, majd a gyökeit (numerikusan)."
   ]
  },
  {
   "cell_type": "code",
   "execution_count": null,
   "metadata": {},
   "outputs": [],
   "source": []
  },
  {
   "cell_type": "markdown",
   "metadata": {},
   "source": [
    "b) Az $a_k$ együtthatókat perturbáljuk meg egy látszólag jelentéktelen mennyiséggel: az új együtthatók legyenek $a_k + 10^{-10}\\varepsilon_k$ vagy $a_k \\cdot(1 + 10^{-10}\\varepsilon_k)$, ahol $\\varepsilon_k$ eloszlása standard normális.\n",
    "\n",
    "Számoljuk ki az így kapott $\\tilde  w$ gyökeit."
   ]
  },
  {
   "cell_type": "code",
   "execution_count": null,
   "metadata": {},
   "outputs": [],
   "source": []
  },
  {
   "cell_type": "markdown",
   "metadata": {},
   "source": [
    "c) Ábrázoljuk $w$ és $\\tilde w$ gyökeit a komplex síkon. Mit tapasztalunk?"
   ]
  },
  {
   "cell_type": "code",
   "execution_count": null,
   "metadata": {},
   "outputs": [],
   "source": []
  }
 ],
 "metadata": {
  "kernelspec": {
   "display_name": "Octave",
   "language": "octave",
   "name": "octave"
  },
  "language_info": {
   "file_extension": ".m",
   "help_links": [
    {
     "text": "GNU Octave",
     "url": "https://www.gnu.org/software/octave/support.html"
    },
    {
     "text": "Octave Kernel",
     "url": "https://github.com/Calysto/octave_kernel"
    },
    {
     "text": "MetaKernel Magics",
     "url": "https://metakernel.readthedocs.io/en/latest/source/README.html"
    }
   ],
   "mimetype": "text/x-octave",
   "name": "octave",
   "version": "5.2.0"
  }
 },
 "nbformat": 4,
 "nbformat_minor": 4
}
