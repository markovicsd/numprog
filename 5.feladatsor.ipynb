{
 "cells": [
  {
   "cell_type": "markdown",
   "metadata": {},
   "source": [
    "## 5. Feladatsor\n",
    "\n",
    "\"kriptográfia\""
   ]
  },
  {
   "cell_type": "markdown",
   "metadata": {},
   "source": [
    "#### 0. Feladat:\n",
    "\n",
    "Magyarázzuk meg, hogy miért igaz a következő. Melyik alakot érdemes tényleges kódban használni?\n",
    "\n",
    "```octave\n",
    "all(arrayfun(@char, 'a' + (0:25)) == \"abcdefghijklmnopqrstuvwxyz\")\n",
    "```"
   ]
  },
  {
   "cell_type": "code",
   "execution_count": 1,
   "metadata": {},
   "outputs": [
    {
     "name": "stdout",
     "output_type": "stream",
     "text": [
      "ans =\n",
      "\n",
      " Columns 1 through 16:\n",
      "\n",
      "    0    1    2    3    4    5    6    7    8    9   10   11   12   13   14   15\n",
      "\n",
      " Columns 17 through 26:\n",
      "\n",
      "   16   17   18   19   20   21   22   23   24   25\n",
      "\n"
     ]
    }
   ],
   "source": [
    "0:25"
   ]
  },
  {
   "cell_type": "code",
   "execution_count": 2,
   "metadata": {},
   "outputs": [
    {
     "name": "stdout",
     "output_type": "stream",
     "text": [
      "ans = a\n"
     ]
    }
   ],
   "source": [
    "'a'"
   ]
  },
  {
   "cell_type": "code",
   "execution_count": 3,
   "metadata": {},
   "outputs": [
    {
     "name": "stdout",
     "output_type": "stream",
     "text": [
      "ans =  97\n",
      "ans =  98\n"
     ]
    }
   ],
   "source": [
    "'a' + 0\n",
    "'b' + 0"
   ]
  },
  {
   "cell_type": "code",
   "execution_count": 4,
   "metadata": {},
   "outputs": [
    {
     "name": "stdout",
     "output_type": "stream",
     "text": [
      "ans = a\n"
     ]
    }
   ],
   "source": [
    "char(97)"
   ]
  },
  {
   "cell_type": "code",
   "execution_count": 5,
   "metadata": {},
   "outputs": [
    {
     "name": "stdout",
     "output_type": "stream",
     "text": [
      "ans =\n",
      "\n",
      " Columns 1 through 13:\n",
      "\n",
      "    97    98    99   100   101   102   103   104   105   106   107   108   109\n",
      "\n",
      " Columns 14 through 26:\n",
      "\n",
      "   110   111   112   113   114   115   116   117   118   119   120   121   122\n",
      "\n"
     ]
    }
   ],
   "source": [
    "'a' + (0:25)"
   ]
  },
  {
   "cell_type": "code",
   "execution_count": 6,
   "metadata": {},
   "outputs": [
    {
     "name": "stdout",
     "output_type": "stream",
     "text": [
      "ans = abcdefghijklmnopqrstuvwxyz\n"
     ]
    }
   ],
   "source": [
    "arrayfun(@char, 'a' + (0:25))"
   ]
  },
  {
   "cell_type": "code",
   "execution_count": 7,
   "metadata": {},
   "outputs": [
    {
     "name": "stdout",
     "output_type": "stream",
     "text": [
      "ans = abcdefghijklmnopqrstuvwxyz\n"
     ]
    }
   ],
   "source": [
    "arrayfun(@char, 97:122)"
   ]
  },
  {
   "cell_type": "code",
   "execution_count": 8,
   "metadata": {},
   "outputs": [
    {
     "name": "stdout",
     "output_type": "stream",
     "text": [
      "ans =\n",
      "\n",
      "  1  1  1  1  1  1  1  1  1  1  1  1  1  1  1  1  1  1  1  1  1  1  1  1  1  1\n",
      "\n"
     ]
    }
   ],
   "source": [
    "arrayfun(@char, 'a' + (0:25)) == \"abcdefghijklmnopqrstuvwxyz\""
   ]
  },
  {
   "cell_type": "code",
   "execution_count": 9,
   "metadata": {},
   "outputs": [
    {
     "name": "stdout",
     "output_type": "stream",
     "text": [
      "ans = 1\n"
     ]
    }
   ],
   "source": [
    "all(arrayfun(@char, 'a' + (0:25)) == \"abcdefghijklmnopqrstuvwxyz\")"
   ]
  },
  {
   "cell_type": "markdown",
   "metadata": {},
   "source": [
    "#### 1. Feladat:\n",
    "\n",
    "Shakespeare *The Merchant of Venice* c. <a href='http://shakespeare.mit.edu/merchant/full.html'>műve</a> alapján becsüljük meg, hogy a shakespeare-i angol szövegekben egyes karakterek (a-z) milyen gyakorisággal fordulnak elő. Készítsünk szemléltető ábrát is."
   ]
  },
  {
   "cell_type": "code",
   "execution_count": 10,
   "metadata": {},
   "outputs": [
    {
     "name": "stdout",
     "output_type": "stream",
     "text": [
      "OpenJDK 64-Bit Server VM warning: Archived non-system classes are disabled because the java.system.class.loader property is specified (value = \"org.octave.OctClassLoader\"). To use archived non-system classes, this property must be not be set\n"
     ]
    }
   ],
   "source": [
    "pkg load statistics"
   ]
  },
  {
   "cell_type": "code",
   "execution_count": 11,
   "metadata": {},
   "outputs": [],
   "source": [
    "merchant_txt = lower(fileread(\"merchant-full.txt\"));"
   ]
  },
  {
   "cell_type": "code",
   "execution_count": 12,
   "metadata": {},
   "outputs": [],
   "source": [
    "t = tabulate(merchant_txt);"
   ]
  },
  {
   "cell_type": "code",
   "execution_count": 13,
   "metadata": {},
   "outputs": [
    {
     "name": "stdout",
     "output_type": "stream",
     "text": [
      "counts =\n",
      "\n",
      "    6590\n",
      "    1393\n",
      "    1809\n",
      "    3373\n",
      "   10388\n",
      "    1950\n",
      "    1505\n",
      "    5628\n",
      "    5842\n",
      "     196\n",
      "     653\n",
      "    3599\n",
      "    2519\n",
      "    5588\n",
      "    7274\n",
      "    1106\n",
      "      56\n",
      "    5010\n",
      "    5434\n",
      "    7649\n",
      "    2838\n",
      "     888\n",
      "    2158\n",
      "     106\n",
      "    2361\n",
      "      63\n",
      "\n"
     ]
    }
   ],
   "source": [
    "counts = t((end-25):end, 2)\n",
    "percentages = counts / sum(counts) * 100;"
   ]
  },
  {
   "cell_type": "code",
   "execution_count": 16,
   "metadata": {},
   "outputs": [
    {
     "data": {
      "image/png": "[encoded data removed]",
      "text/plain": [
       "<IPython.core.display.Image object>"
      ]
     },
     "metadata": {},
     "output_type": "display_data"
    }
   ],
   "source": [
    "abc = num2cell(arrayfun(@char, 'a' + (0:25)));\n",
    "\n",
    "bar(percentages)\n",
    "set(gca, 'XTickLabel',abc,'XTick',1:numel(abc));"
   ]
  },
  {
   "cell_type": "markdown",
   "metadata": {},
   "source": [
    "#### 2.feladat:"
   ]
  },
  {
   "cell_type": "markdown",
   "metadata": {},
   "source": [
    "a) Melyek a leggyakoribb betűk? Ábránkat rendezzük gyakoriság szerinti csökkenő sorrendbe."
   ]
  },
  {
   "cell_type": "code",
   "execution_count": 21,
   "metadata": {},
   "outputs": [],
   "source": [
    "[_, ixs] = sort(percentages, 'descend');\n",
    "assert(percentages(ixs), _)"
   ]
  },
  {
   "cell_type": "code",
   "execution_count": 27,
   "metadata": {},
   "outputs": [
    {
     "data": {
      "image/png": "[encoded data removed]",
      "text/plain": [
       "<IPython.core.display.Image object>"
      ]
     },
     "metadata": {},
     "output_type": "display_data"
    }
   ],
   "source": [
    "bar(percentages(ixs))\n",
    "set(gca, 'XTickLabel',abc(ixs),'XTick',1:numel(abc));"
   ]
  },
  {
   "cell_type": "markdown",
   "metadata": {},
   "source": [
    "b) \n",
    "Ez alapján próbáljuk meg kitalálni, hogy mi lehetett eredetileg az alábbi szövegrészlet, mielőtt minden karakterét egy másikra cseréltem egy szabály szerint. (pl. előfordulhatna, hogy `a`-t cseréltem `v`-re, `b`-t `y`-ra, stb.)\n",
    "\n",
    "*gura yrg zr frr gur engr*"
   ]
  },
  {
   "cell_type": "code",
   "execution_count": 32,
   "metadata": {},
   "outputs": [],
   "source": [
    "function analyze_percentages(some_text)\n",
    "    t = tabulate(some_text);\n",
    "    counts = t((end-25):end, 2);\n",
    "    percentages = counts / sum(counts) * 100;\n",
    "    \n",
    "    abc = num2cell(arrayfun(@char, 'a' + (0:25)));\n",
    "\n",
    "    [_, ixs] = sort(percentages, 'descend');\n",
    "    bar(percentages(ixs))\n",
    "    set(gca, 'XTickLabel',abc(ixs),'XTick',1:numel(abc));\n",
    "end"
   ]
  },
  {
   "cell_type": "code",
   "execution_count": 33,
   "metadata": {},
   "outputs": [
    {
     "data": {
      "image/png": "[encoded data removed]",
      "text/plain": [
       "<IPython.core.display.Image object>"
      ]
     },
     "metadata": {},
     "output_type": "display_data"
    }
   ],
   "source": [
    "analyze_percentages(\"gura yrg zr frr gur engr\")"
   ]
  },
  {
   "cell_type": "code",
   "execution_count": 34,
   "metadata": {},
   "outputs": [
    {
     "name": "stdout",
     "output_type": "stream",
     "text": [
      "helper = ____ ___ __ ___ ___ ____\n"
     ]
    }
   ],
   "source": [
    "helper = repmat(\"_\", 1, numel(\"gura yrg zr frr gur engr\"));\n",
    "helper(\"gura yrg zr frr gur engr\" == \" \") = \" \""
   ]
  },
  {
   "cell_type": "code",
   "execution_count": 35,
   "metadata": {},
   "outputs": [
    {
     "name": "stdout",
     "output_type": "stream",
     "text": [
      "ans = __e_ _e_ _e _ee __e ___e\n",
      "ans = t_e_ _et _e _ee t_e __te\n",
      "ans = then let me see the rate\n"
     ]
    }
   ],
   "source": [
    "\"__e_ _e_ _e _ee __e ___e\"\n",
    "\"t_e_ _et _e _ee t_e __te\"\n",
    "\"then let me see the rate\""
   ]
  },
  {
   "cell_type": "markdown",
   "metadata": {},
   "source": [
    "#### 3.feladat:\n",
    "\n",
    "a) Írjunk függvényt (angol, kisbetűs) szöveg <a href=\"https://en.wikipedia.org/wiki/ROT13\">ROT13</a> kódolására. Felhasználhatjuk, hogy `'z' - 'a' == 25`."
   ]
  },
  {
   "cell_type": "code",
   "execution_count": 65,
   "metadata": {},
   "outputs": [
    {
     "name": "stdout",
     "output_type": "stream",
     "text": [
      "ans = then let me see the rate\n"
     ]
    }
   ],
   "source": [
    "function plaintext = rot13(ciphertext)\n",
    "    plaintext = ciphertext;\n",
    "    \n",
    "    for ix=1:numel(plaintext)\n",
    "        abc_ix = ciphertext(ix) - 'a';\n",
    "        if (0 <= abc_ix) && (abc_ix <= 25)\n",
    "            plaintext(ix) = char('a' + mod(abc_ix + 13, 26));\n",
    "        end\n",
    "    end\n",
    "end\n",
    "\n",
    "rot13(\"gura yrg zr frr gur engr\")"
   ]
  },
  {
   "cell_type": "code",
   "execution_count": 66,
   "metadata": {},
   "outputs": [
    {
     "name": "stdout",
     "output_type": "stream",
     "text": [
      "ans =  97\n",
      "ans = n\n",
      "ans = \n"
     ]
    }
   ],
   "source": [
    "'a' + 0\n",
    "char('a' + 13)\n",
    "char('z' + 13)"
   ]
  },
  {
   "cell_type": "code",
   "execution_count": 55,
   "metadata": {},
   "outputs": [
    {
     "name": "stdout",
     "output_type": "stream",
     "text": [
      "ans =  25\n"
     ]
    }
   ],
   "source": [
    "'z' - 'a'"
   ]
  },
  {
   "cell_type": "code",
   "execution_count": 56,
   "metadata": {},
   "outputs": [
    {
     "name": "stdout",
     "output_type": "stream",
     "text": [
      "ans =  38\n"
     ]
    }
   ],
   "source": [
    "'z' - 'a' + 13"
   ]
  },
  {
   "cell_type": "code",
   "execution_count": 60,
   "metadata": {},
   "outputs": [
    {
     "name": "stdout",
     "output_type": "stream",
     "text": [
      "ans =  109\n"
     ]
    }
   ],
   "source": [
    "'a' + mod('z' - 'a' + 13, 26)"
   ]
  },
  {
   "cell_type": "code",
   "execution_count": 61,
   "metadata": {},
   "outputs": [
    {
     "name": "stdout",
     "output_type": "stream",
     "text": [
      "ans = m\n"
     ]
    }
   ],
   "source": [
    "char('a' + mod('z' - 'a' + 13, 26))"
   ]
  },
  {
   "cell_type": "markdown",
   "metadata": {},
   "source": [
    "Milyen tulajdonságot ellenőriz a következő teszt? Hogy lehetne megírni ciklus nélkül?"
   ]
  },
  {
   "cell_type": "code",
   "execution_count": 68,
   "metadata": {},
   "outputs": [],
   "source": [
    "function test_rot13(num_tests, text_len)\n",
    "    abc = [arrayfun(@char, 'a' + (0:25)), \n",
    "           \" \", \"-\", \"+\", \"/\"\n",
    "           arrayfun(@char, '0' + (0:8))];\n",
    "    for _=1:num_tests\n",
    "        random_text = abc(randi(numel(abc), 1, text_len));\n",
    "        assert(rot13(rot13(random_text)), random_text)\n",
    "    end\n",
    "end\n",
    "\n",
    "test_rot13(100, 20)"
   ]
  },
  {
   "cell_type": "markdown",
   "metadata": {},
   "source": [
    "b) Írjunk függvényt (angol, kisbetűs) szöveg <a href=\"https://en.wikipedia.org/wiki/Caesar_cipher\">Caesar-kódolására</a>. Az eltolás mértéke legyen bemeneti paraméter. Megoldásunkat ellenőrizzük a fentiekhez hasonlóan."
   ]
  },
  {
   "cell_type": "code",
   "execution_count": null,
   "metadata": {},
   "outputs": [],
   "source": []
  },
  {
   "cell_type": "markdown",
   "metadata": {},
   "source": [
    "#### 4.feladat:\n",
    "\n",
    "Írjunk függvényt (angol, kisbetűs) szöveg <a href=\"https://en.wikipedia.org/wiki/Substitution_cipher\">egyszerű helyettesítés</a> alapú kódolására. Milyen paraméterezés mellett kapjuk vissza az előző feladat a) részének megoldását?"
   ]
  },
  {
   "cell_type": "markdown",
   "metadata": {},
   "source": [
    "Használhatunk kulcs-érték párok tárolására szolgáló adatstruktúrát, azaz <a href=\"https://nl.mathworks.com/help/matlab/map-containers.html\">Map</a>-et:"
   ]
  },
  {
   "cell_type": "code",
   "execution_count": 36,
   "metadata": {},
   "outputs": [
    {
     "name": "stdout",
     "output_type": "stream",
     "text": [
      "ans = n\n",
      "ans = o\n",
      "ans = p\n"
     ]
    }
   ],
   "source": [
    "char_map = containers.Map(num2cell(\"abcdefghijklmnopqrstuwvxyz\"), \n",
    "                          num2cell(\"nopqrstuvwxyzabcdefghijklm\"));\n",
    "\n",
    "char_map('a')\n",
    "char_map('b')\n",
    "char_map('c')"
   ]
  },
  {
   "cell_type": "code",
   "execution_count": 37,
   "metadata": {},
   "outputs": [
    {
     "name": "stdout",
     "output_type": "stream",
     "text": [
      "ans = 1\n",
      "ans = 0\n"
     ]
    }
   ],
   "source": [
    "isKey(char_map, 'a')\n",
    "isKey(char_map, '9')"
   ]
  },
  {
   "cell_type": "code",
   "execution_count": 39,
   "metadata": {},
   "outputs": [
    {
     "name": "stdout",
     "output_type": "stream",
     "text": [
      "ans = n\n",
      "error: containers.Map: specified key <9> does not exist\n",
      "error: called from\n",
      "    subsref at line 391 column 13\n"
     ]
    }
   ],
   "source": [
    "char_map('a')\n",
    "char_map('9')"
   ]
  },
  {
   "cell_type": "code",
   "execution_count": null,
   "metadata": {},
   "outputs": [],
   "source": []
  }
 ],
 "metadata": {
  "kernelspec": {
   "display_name": "Octave",
   "language": "octave",
   "name": "octave"
  },
  "language_info": {
   "file_extension": ".m",
   "help_links": [
    {
     "text": "GNU Octave",
     "url": "https://www.gnu.org/software/octave/support.html"
    },
    {
     "text": "Octave Kernel",
     "url": "https://github.com/Calysto/octave_kernel"
    },
    {
     "text": "MetaKernel Magics",
     "url": "https://metakernel.readthedocs.io/en/latest/source/README.html"
    }
   ],
   "mimetype": "text/x-octave",
   "name": "octave",
   "version": "5.2.0"
  }
 },
 "nbformat": 4,
 "nbformat_minor": 4
}
