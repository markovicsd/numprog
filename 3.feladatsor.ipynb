{
 "cells": [
  {
   "cell_type": "markdown",
   "metadata": {},
   "source": [
    "## 3. Feladatsor \n",
    "\n",
    "vektorizáció"
   ]
  },
  {
   "cell_type": "markdown",
   "metadata": {},
   "source": [
    "#### 0. Feladat\n",
    "\n",
    "Írjunk függvényt $n!$ kiszámítására. Feltehetjük, hogy $n \\in \\mathbb{N}$."
   ]
  },
  {
   "cell_type": "markdown",
   "metadata": {},
   "source": [
    "a) Alkalmazzunk for-ciklust."
   ]
  },
  {
   "cell_type": "code",
   "execution_count": 6,
   "metadata": {},
   "outputs": [],
   "source": [
    "function nf = factorial(n)\n",
    "    nf = 1;\n",
    "    for k=1:n\n",
    "        % nf *= k;\n",
    "        nf = nf * k;\n",
    "    end\n",
    "end\n",
    "\n",
    "assert(factorial(5), 120)\n",
    "assert(factorial(4), 24)"
   ]
  },
  {
   "cell_type": "markdown",
   "metadata": {},
   "source": [
    "b) Vektorizáljunk."
   ]
  },
  {
   "cell_type": "code",
   "execution_count": 8,
   "metadata": {},
   "outputs": [],
   "source": [
    "function nf = factorial(n)\n",
    "    if n == 0\n",
    "       nf = 1;\n",
    "    else\n",
    "       nf = prod(1:n);\n",
    "    end\n",
    "end\n",
    "\n",
    "assert(factorial(5), 120)"
   ]
  },
  {
   "cell_type": "code",
   "execution_count": 10,
   "metadata": {},
   "outputs": [
    {
     "name": "stdout",
     "output_type": "stream",
     "text": [
      "ans =\n",
      "\n",
      "   1   2   3   4   5\n",
      "\n",
      "ans =  120\n"
     ]
    }
   ],
   "source": [
    "1:5\n",
    "prod(1:5)"
   ]
  },
  {
   "cell_type": "markdown",
   "metadata": {},
   "source": [
    "#### 1.feladat: Vektornormák kiszámítása"
   ]
  },
  {
   "cell_type": "markdown",
   "metadata": {},
   "source": [
    "a) Írjunk for-ciklus alapú függvényt $\\|x\\|_2 = \\sqrt{\\sum_j x_j^2} $ kiszámítására."
   ]
  },
  {
   "cell_type": "code",
   "execution_count": 15,
   "metadata": {},
   "outputs": [],
   "source": [
    "function r = norm2(x)\n",
    "    r = 0;\n",
    "    for ix=1:numel(x)\n",
    "        r += x(ix)^2;\n",
    "    end\n",
    "    r = sqrt(r);\n",
    "end\n",
    "\n",
    "assert(norm2([3 4]), 5)\n",
    "%assert(norm2([.5 sqrt(3)/2]), 1)\n",
    "assert(norm2([.5 sqrt(3)/2]), 1, 1e-10)"
   ]
  },
  {
   "cell_type": "markdown",
   "metadata": {},
   "source": [
    "b) Oldjuk meg az előző feladatot beépített függvények segítségével, de a *norm* függvény használata nélkül."
   ]
  },
  {
   "cell_type": "code",
   "execution_count": 21,
   "metadata": {},
   "outputs": [],
   "source": [
    "function r = norm2(x)\n",
    "    % r = sqrt(x * x');\n",
    "    r = sqrt(sum(x .^ 2));\n",
    "end\n",
    "\n",
    "assert(norm2([3 4]), 5)\n",
    "assert(norm2([.5 sqrt(3)/2]), 1, 1e-10)"
   ]
  },
  {
   "cell_type": "code",
   "execution_count": 20,
   "metadata": {},
   "outputs": [
    {
     "name": "stdout",
     "output_type": "stream",
     "text": [
      "ans =\n",
      "\n",
      "   1   4   9\n",
      "\n",
      "ans =  14\n"
     ]
    }
   ],
   "source": [
    "[1,2,3].^2\n",
    "sum([1,2,3].^2)"
   ]
  },
  {
   "cell_type": "markdown",
   "metadata": {},
   "source": [
    "#### 2.feladat: Kritériumnak megfelelő elemek leszámolása"
   ]
  },
  {
   "cell_type": "markdown",
   "metadata": {},
   "source": [
    "a) Írjunk for-ciklus alapú függvényt ami megszámolja, hogy egy vektorban hány páratlan szám áll."
   ]
  },
  {
   "cell_type": "code",
   "execution_count": 27,
   "metadata": {},
   "outputs": [],
   "source": [
    "function k = countodd(x)\n",
    "   k = 0;\n",
    "   for ix=1:numel(x)\n",
    "       if mod(x(ix), 2) == 1\n",
    "           k += 1;\n",
    "       end\n",
    "   end\n",
    "end\n",
    "\n",
    "assert(countodd(1:10), 5)\n",
    "assert(countodd(-10:10), 10)"
   ]
  },
  {
   "cell_type": "code",
   "execution_count": 30,
   "metadata": {},
   "outputs": [],
   "source": [
    "function k = countodd(x)\n",
    "   k = 0;\n",
    "   for ix=1:numel(x)\n",
    "       if mod(x(ix), 2)\n",
    "           k += 1;\n",
    "       end\n",
    "   end\n",
    "end\n",
    "\n",
    "assert(countodd(1:10), 5)\n",
    "assert(countodd(-10:10), 10)"
   ]
  },
  {
   "cell_type": "code",
   "execution_count": 25,
   "metadata": {},
   "outputs": [
    {
     "name": "stdout",
     "output_type": "stream",
     "text": [
      "ans = 0\n",
      "ans =  1\n",
      "ans = -1\n"
     ]
    }
   ],
   "source": [
    "mod(10, 2)\n",
    "mod(9, 2)\n",
    "rem(-9, 2)"
   ]
  },
  {
   "cell_type": "markdown",
   "metadata": {},
   "source": [
    "a') Általánosítsuk előző megoldásunkat úgy, hogy a kritérium egy bemeneti paraméter legyen függvény formájában."
   ]
  },
  {
   "cell_type": "code",
   "execution_count": 32,
   "metadata": {},
   "outputs": [],
   "source": [
    "function k = countif(x, condition)\n",
    "   k = 0;\n",
    "   for ix=1:numel(x)\n",
    "       if condition(x(ix))\n",
    "           k += 1;\n",
    "       end\n",
    "   end\n",
    "end\n",
    "\n",
    "assert(countif(1:10, @(x)(mod(x, 2) == 1)), countodd(1:10))\n",
    "assert(countif(-10:10, @(x)(mod(x, 2))), countodd(-10:10))"
   ]
  },
  {
   "cell_type": "markdown",
   "metadata": {},
   "source": [
    "b) Írjunk vektorizált alapon működő függvényt ami megszámolja, hogy egy vektorban hány páratlan szám áll."
   ]
  },
  {
   "cell_type": "code",
   "execution_count": 35,
   "metadata": {},
   "outputs": [],
   "source": [
    "function k = countodd(x)\n",
    "    k = sum(mod(x, 2));\n",
    "end\n",
    "\n",
    "assert(countodd(1:10), 5)\n",
    "assert(countodd(-10:10), 10)"
   ]
  },
  {
   "cell_type": "code",
   "execution_count": 33,
   "metadata": {},
   "outputs": [
    {
     "name": "stdout",
     "output_type": "stream",
     "text": [
      "ans =\n",
      "\n",
      "   1   0   1   0\n",
      "\n"
     ]
    }
   ],
   "source": [
    "mod([1,2,3,4], 2)"
   ]
  },
  {
   "cell_type": "markdown",
   "metadata": {},
   "source": [
    "b') Általánosítsuk előző megoldásunkat úgy, hogy a kritérium egy bemeneti paraméter legyen függvény formájában. Feltehetjük, hogy ezen függvény az adott vektorhoz egy olyan 0-1 vektort rendel, aminek az $i$. eleme pontosan akkor $1$, ha a bemeneti vektor $i$. elemére teljesül a feltétel."
   ]
  },
  {
   "cell_type": "code",
   "execution_count": 36,
   "metadata": {},
   "outputs": [],
   "source": [
    "function k = countif(x, condition)\n",
    "    k = sum(condition(x));\n",
    "end\n",
    "\n",
    "assert(countif(1:10, @(x)(mod(x, 2))), countodd(1:10))\n",
    "assert(countif(-10:10, @(x)(mod(x, 2))), countodd(-10:10))"
   ]
  },
  {
   "cell_type": "code",
   "execution_count": 43,
   "metadata": {},
   "outputs": [
    {
     "name": "stdout",
     "output_type": "stream",
     "text": [
      "ans =  5\n",
      "ans = 0\n"
     ]
    }
   ],
   "source": [
    "countif(1:10, @isitodd)\n",
    " \n",
    "(@(x)(mod(x, 2)))(2)\n",
    "function r = isitodd(x)\n",
    "   r = mod(x, 2);\n",
    "end"
   ]
  },
  {
   "cell_type": "markdown",
   "metadata": {},
   "source": [
    "b'') Az előző feladat, de a kritériumnak egyszerre csak egy elemet adhatunk."
   ]
  },
  {
   "cell_type": "code",
   "execution_count": 45,
   "metadata": {},
   "outputs": [],
   "source": [
    "function k = countif(x, condition)\n",
    "    k = sum(arrayfun(condition, x));\n",
    "end\n",
    "\n",
    "assert(countif(1:10, @(x)(~mod(x, 2))), 10-countodd(1:10))\n",
    "assert(countif(-10:10, @(x)(1 - mod(x, 2))), 21-countodd(-10:10))"
   ]
  },
  {
   "cell_type": "markdown",
   "metadata": {},
   "source": [
    "#### 3. Feladat\n",
    "\n",
    "Azt mondjuk, hogy egy mátrix duplán sztochasztikus, ha elemei nemnegatívak, továbbá minden sor és oszlop összege $1$.\n",
    "\n",
    "Tekintsük az alábbi $t$ tulajdonságokat:\n",
    "\n",
    "  1. duplán sztochasztikus,\n",
    "  2. ortogonális,\n",
    "  3. szimmetrikus,\n",
    "  4. alsó/felső háromszög.\n",
    "\n",
    "a) Írjunk for-ciklus alapú függvényt ami eldönti, hogy egy mátrixra igaz-e a $t$ tulajdonság."
   ]
  },
  {
   "cell_type": "code",
   "execution_count": 55,
   "metadata": {},
   "outputs": [
    {
     "name": "stdout",
     "output_type": "stream",
     "text": [
      "A =\n",
      "\n",
      "   1   2\n",
      "   2   4\n",
      "\n",
      "s =  1\n",
      "s = 1\n",
      "s = 1\n",
      "s = 1\n",
      "s = 1\n"
     ]
    }
   ],
   "source": [
    "A = [1 2; 2 4]\n",
    "\n",
    "[n,m] = size(A);\n",
    "\n",
    "s = 1\n",
    "\n",
    "for i=1:n\n",
    "    for j=1:m\n",
    "        s =  s & (A(i,j) == A(j, i))\n",
    "    end\n",
    "end"
   ]
  },
  {
   "cell_type": "markdown",
   "metadata": {},
   "source": [
    "b) Ugyanez, ciklusok nélkül."
   ]
  },
  {
   "cell_type": "code",
   "execution_count": 51,
   "metadata": {},
   "outputs": [
    {
     "name": "stdout",
     "output_type": "stream",
     "text": [
      "A =\n",
      "\n",
      "   1   2\n",
      "   2   4\n",
      "\n",
      "ans =\n",
      "\n",
      "   1   2\n",
      "   2   4\n",
      "\n",
      "ans = 1\n"
     ]
    }
   ],
   "source": [
    "A = [1 2; 2 4]\n",
    "\n",
    "A'\n",
    "\n",
    "all(all(A' == A))\n",
    "\n",
    "(A') * A == eye(size(A))"
   ]
  },
  {
   "cell_type": "markdown",
   "metadata": {},
   "source": [
    "#### 4. Feladat\n",
    "\n",
    "Szomszédsági mátrix alapján döntsük el, hogy hány éle van egy gráfnak. Feltehetjük, hogy a gráf irányítatlan, továbbá, hogy nincsenek se többszörös, se hurokélek\n",
    "\n",
    "a) Használjunk for-ciklusokat."
   ]
  },
  {
   "cell_type": "code",
   "execution_count": null,
   "metadata": {},
   "outputs": [],
   "source": []
  },
  {
   "cell_type": "markdown",
   "metadata": {},
   "source": [
    "b) Dolgozzunk ciklusok nélkül."
   ]
  },
  {
   "cell_type": "code",
   "execution_count": null,
   "metadata": {},
   "outputs": [],
   "source": []
  }
 ],
 "metadata": {
  "kernelspec": {
   "display_name": "Octave",
   "language": "octave",
   "name": "octave"
  },
  "language_info": {
   "file_extension": ".m",
   "help_links": [
    {
     "text": "GNU Octave",
     "url": "https://www.gnu.org/software/octave/support.html"
    },
    {
     "text": "Octave Kernel",
     "url": "https://github.com/Calysto/octave_kernel"
    },
    {
     "text": "MetaKernel Magics",
     "url": "https://metakernel.readthedocs.io/en/latest/source/README.html"
    }
   ],
   "mimetype": "text/x-octave",
   "name": "octave",
   "version": "5.2.0"
  }
 },
 "nbformat": 4,
 "nbformat_minor": 4
}
