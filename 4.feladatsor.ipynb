{
 "cells": [
  {
   "cell_type": "markdown",
   "metadata": {},
   "source": [
    "## 4. Feladatsor \n",
    "\n",
    "(pszeudo-)véletlen számok"
   ]
  },
  {
   "cell_type": "markdown",
   "metadata": {},
   "source": [
    "#### 0. Feladat:\n",
    "\n",
    "Írjunk függvényt kockával való dobás szimulálására. Általánosítsuk megoldásunkat `k` darab `d` oldalú kockára."
   ]
  },
  {
   "cell_type": "code",
   "execution_count": 1,
   "metadata": {},
   "outputs": [
    {
     "name": "stdout",
     "output_type": "stream",
     "text": [
      "ans =\n",
      "\n",
      "   0.029473\n",
      "   0.830784\n",
      "   0.433380\n",
      "\n",
      "ans =\n",
      "\n",
      "   6\n",
      "   5\n",
      "   5\n",
      "\n",
      "ans =\n",
      "\n",
      "   1.542138   0.293972   3.023957\n",
      "   0.438933   0.547500   0.031440\n",
      "  -0.078423   2.692109   1.236835\n",
      "\n"
     ]
    }
   ],
   "source": [
    "rand(3, 1)\n",
    "\n",
    "randi(6, 3, 1)\n",
    "\n",
    "randn(3)"
   ]
  },
  {
   "cell_type": "code",
   "execution_count": 2,
   "metadata": {},
   "outputs": [],
   "source": [
    "function die = throw_die()\n",
    "    die = randi(6);\n",
    "end"
   ]
  },
  {
   "cell_type": "code",
   "execution_count": 3,
   "metadata": {},
   "outputs": [
    {
     "name": "stdout",
     "output_type": "stream",
     "text": [
      "ans =\n",
      "\n",
      "   6   5   3   5   2   2   2   1   5   1\n",
      "\n",
      "ans =  3.4800\n",
      "ans =  1.6986\n"
     ]
    }
   ],
   "source": [
    "function throws = throw_dice(k)\n",
    "    throws = randi(6, 1, k);\n",
    "end\n",
    "\n",
    "throw_dice(10)\n",
    "\n",
    "mean(throw_dice(1000))\n",
    "\n",
    "std(throw_dice(1000))"
   ]
  },
  {
   "cell_type": "code",
   "execution_count": 4,
   "metadata": {},
   "outputs": [],
   "source": [
    "function throws = throw_d_dice(k, d)\n",
    "\n",
    "end"
   ]
  },
  {
   "cell_type": "code",
   "execution_count": 5,
   "metadata": {},
   "outputs": [
    {
     "name": "stdout",
     "output_type": "stream",
     "text": [
      "throws =\n",
      "\n",
      "   2   1   4   3   1   5   6   3   4   1\n",
      "\n",
      "ans =\n",
      "\n",
      "  0  0  0  0  0  0  1  0  0  0\n",
      "\n",
      "ans =  1\n"
     ]
    }
   ],
   "source": [
    "throws = throw_dice(10)\n",
    "\n",
    "throws == 6\n",
    "sum(throws == 6)"
   ]
  },
  {
   "cell_type": "code",
   "execution_count": 6,
   "metadata": {},
   "outputs": [
    {
     "name": "stdout",
     "output_type": "stream",
     "text": [
      "throws =\n",
      "\n",
      "   2   1   4   3   1   5   6   3   4   1\n",
      "\n",
      "ans =\n",
      "\n",
      "   2   1   3   1   3   1\n",
      "\n"
     ]
    }
   ],
   "source": [
    "throws\n",
    "throws(throws <= 3)"
   ]
  },
  {
   "cell_type": "code",
   "execution_count": 7,
   "metadata": {},
   "outputs": [
    {
     "name": "stdout",
     "output_type": "stream",
     "text": [
      "ans =\n",
      "\n",
      "  -2  -1   4  -3  -1   5   6  -3   4  -1\n",
      "\n"
     ]
    }
   ],
   "source": [
    "(throws <= 3) .* ( (-1) * throws) + (throws > 3) .* throws"
   ]
  },
  {
   "cell_type": "markdown",
   "metadata": {},
   "source": [
    "#### 1.feladat:"
   ]
  },
  {
   "cell_type": "markdown",
   "metadata": {},
   "source": [
    "Tekintsünk egy szimmetrikus bolyongást ($\\mathbb Z$-n), azaz legyen $X_0 = 0$, majd\n",
    "$$\n",
    "  X_{k+1} = X_k + d_k,\n",
    "$$\n",
    "\n",
    "ahol $d_k$ értéke $\\frac12$ valószínűséggel $1$, $\\frac12$ valószínűséggel $-1$.\n",
    "\n",
    "Szimuláljuk néhány ilyen bolyongás néhány lépését, majd ábrázoljuk is ezeket az idő függvényében."
   ]
  },
  {
   "cell_type": "code",
   "execution_count": 8,
   "metadata": {},
   "outputs": [
    {
     "name": "stdout",
     "output_type": "stream",
     "text": [
      "ans =\n",
      "\n",
      "   1  -1  -1   1  -1   1  -1  -1   1  -1\n",
      "\n"
     ]
    }
   ],
   "source": [
    "2*(randi(2, 1, 10) - 1.5)"
   ]
  },
  {
   "cell_type": "code",
   "execution_count": 9,
   "metadata": {},
   "outputs": [
    {
     "name": "stdout",
     "output_type": "stream",
     "text": [
      "steps =\n",
      "\n",
      "  -1   1  -1  -1   1  -1   1  -1   1  -1\n",
      "\n",
      "ans =\n",
      "\n",
      "  -1   0  -1  -2  -1  -2  -1  -2  -1  -2\n",
      "\n"
     ]
    }
   ],
   "source": [
    "steps = 2*(randi(2, 1, 10) - 1.5)\n",
    "cumsum(steps)"
   ]
  },
  {
   "cell_type": "code",
   "execution_count": 10,
   "metadata": {},
   "outputs": [],
   "source": [
    "function positions = symmetric_random_walk(n)\n",
    "    steps = 2*(randi(2, 1, n) - 1.5);\n",
    "    positions = [0 cumsum(steps)];\n",
    "end"
   ]
  },
  {
   "cell_type": "code",
   "execution_count": 11,
   "metadata": {},
   "outputs": [
    {
     "name": "stdout",
     "output_type": "stream",
     "text": [
      "ans =\n",
      "\n",
      "   0  -1   0  -1   0   1   2   3   2   3   2   3   4\n",
      "\n"
     ]
    }
   ],
   "source": [
    "symmetric_random_walk(12)"
   ]
  },
  {
   "cell_type": "code",
   "execution_count": 12,
   "metadata": {},
   "outputs": [],
   "source": [
    "function positions = symmetric_random_walks(n, k)\n",
    "    steps = 2*(randi(2, k, n) - 1.5);\n",
    "    positions = [zeros(k, 1) cumsum(steps, 2)];\n",
    "end"
   ]
  },
  {
   "cell_type": "code",
   "execution_count": 13,
   "metadata": {},
   "outputs": [
    {
     "name": "stdout",
     "output_type": "stream",
     "text": [
      "ans =\n",
      "\n",
      "   0   1   2   3   4   3   4   3   2   3   4\n",
      "   0   1   0  -1   0   1   2   1   0  -1   0\n",
      "\n"
     ]
    }
   ],
   "source": [
    "symmetric_random_walks(10, 2)"
   ]
  },
  {
   "cell_type": "code",
   "execution_count": 14,
   "metadata": {},
   "outputs": [],
   "source": [
    "paths = symmetric_random_walks(1000, 4);"
   ]
  },
  {
   "cell_type": "code",
   "execution_count": 15,
   "metadata": {},
   "outputs": [
    {
     "data": {
      "image/png": "[encoded data removed]",
      "text/plain": [
       "<IPython.core.display.Image object>"
      ]
     },
     "metadata": {},
     "output_type": "display_data"
    }
   ],
   "source": [
    "plot(paths')"
   ]
  },
  {
   "cell_type": "markdown",
   "metadata": {},
   "source": [
    "#### 2.feladat:\n",
    "\n",
    "Szimuláljuk a szimmetrikus bolyongás néhány lépését néhányszor, és nézzük meg, hogy átlagosan hányadik lépés során kerül a bolyongó 10 messze az origótól."
   ]
  },
  {
   "cell_type": "code",
   "execution_count": 16,
   "metadata": {},
   "outputs": [
    {
     "name": "stdout",
     "output_type": "stream",
     "text": [
      "positions =\n",
      "\n",
      "   0   1   2   1   0  -1   0  -1   0  -1  -2\n",
      "   0   1   2   1   0  -1  -2  -3  -2  -3  -4\n",
      "\n"
     ]
    }
   ],
   "source": [
    "positions = symmetric_random_walks(10, 2)"
   ]
  },
  {
   "cell_type": "code",
   "execution_count": 17,
   "metadata": {},
   "outputs": [
    {
     "name": "stdout",
     "output_type": "stream",
     "text": [
      "ans =  3\n"
     ]
    }
   ],
   "source": [
    "max([1,2,3])"
   ]
  },
  {
   "cell_type": "code",
   "execution_count": 18,
   "metadata": {},
   "outputs": [
    {
     "name": "stdout",
     "output_type": "stream",
     "text": [
      "v =  3\n",
      "ix =  2\n"
     ]
    }
   ],
   "source": [
    "[v, ix] = max([1,3,2])"
   ]
  },
  {
   "cell_type": "code",
   "execution_count": 19,
   "metadata": {},
   "outputs": [
    {
     "name": "stdout",
     "output_type": "stream",
     "text": [
      "v =\n",
      "\n",
      "  1\n",
      "  1\n",
      "\n",
      "ix =\n",
      "\n",
      "   2\n",
      "   2\n",
      "\n",
      "ans =  2\n"
     ]
    }
   ],
   "source": [
    "[v, ix] = max(abs(positions(:, 2:end)) >= 2, [], 2)\n",
    "\n",
    "mean(ix)"
   ]
  },
  {
   "cell_type": "code",
   "execution_count": 20,
   "metadata": {},
   "outputs": [
    {
     "name": "stdout",
     "output_type": "stream",
     "text": [
      "ans =  100.64\n"
     ]
    }
   ],
   "source": [
    "positions = symmetric_random_walks(1000, 5000);\n",
    "\n",
    "[v, ix] = max(abs(positions(:, 2:end)) >= 10, [], 2);\n",
    "\n",
    "mean(ix)"
   ]
  },
  {
   "cell_type": "markdown",
   "metadata": {},
   "source": [
    "#### 3. Feladat\n",
    "\n",
    "Generáljunk véletlenszerűen pontokat a $(0,0), (1, 0), (0, 1), (1,1)$ pontok által meghatározott négyzeten egyenletes eloszlás szerint, majd számoljuk meg, hogy ezek közül hány esik bele az egységkörbe. Gondoljuk meg, hogy e mennyiségek aránya milyen nevezetes matematikai konstans közelítésére lehet alkalmas."
   ]
  },
  {
   "cell_type": "code",
   "execution_count": 21,
   "metadata": {},
   "outputs": [
    {
     "data": {
      "image/png": "[encoded data removed]",
      "text/plain": [
       "<IPython.core.display.Image object>"
      ]
     },
     "metadata": {},
     "output_type": "display_data"
    }
   ],
   "source": [
    "X = rand(1000, 1);\n",
    "Y = rand(1000, 1);\n",
    "\n",
    "scatter(X(X.^2 + Y.^2 <= 1), Y(X.^2 + Y.^2 <= 1), 'r'); hold on\n",
    "scatter(X(X.^2 + Y.^2 > 1), Y(X.^2 + Y.^2 > 1), 'b')"
   ]
  },
  {
   "cell_type": "code",
   "execution_count": 22,
   "metadata": {},
   "outputs": [
    {
     "name": "stdout",
     "output_type": "stream",
     "text": [
      "ans =  3.1524\n"
     ]
    }
   ],
   "source": [
    "X = rand(10000, 1);\n",
    "Y = rand(10000, 1);\n",
    "4 * numel(X(X.^2 + Y.^2 <= 1)) / numel(X)"
   ]
  },
  {
   "cell_type": "markdown",
   "metadata": {},
   "source": [
    "#### 4. Feladat\n",
    "\n",
    "Végezzük el valami egyszerű, számunkra érdekes, véletlenen alapuló jelenség szimulációját."
   ]
  },
  {
   "cell_type": "code",
   "execution_count": null,
   "metadata": {},
   "outputs": [],
   "source": []
  }
 ],
 "metadata": {
  "kernelspec": {
   "display_name": "Octave",
   "language": "octave",
   "name": "octave"
  },
  "language_info": {
   "file_extension": ".m",
   "help_links": [
    {
     "text": "GNU Octave",
     "url": "https://www.gnu.org/software/octave/support.html"
    },
    {
     "text": "Octave Kernel",
     "url": "https://github.com/Calysto/octave_kernel"
    },
    {
     "text": "MetaKernel Magics",
     "url": "https://metakernel.readthedocs.io/en/latest/source/README.html"
    }
   ],
   "mimetype": "text/x-octave",
   "name": "octave",
   "version": "5.2.0"
  }
 },
 "nbformat": 4,
 "nbformat_minor": 4
}
