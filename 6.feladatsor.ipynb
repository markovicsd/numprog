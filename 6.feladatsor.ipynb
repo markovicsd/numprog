{
 "cells": [
  {
   "cell_type": "markdown",
   "metadata": {},
   "source": [
    "## 6. Feladatsor\n",
    "\n",
    "Hill-cipher"
   ]
  },
  {
   "cell_type": "markdown",
   "metadata": {},
   "source": [
    "#### 0. Feladat:\n",
    "\n",
    "Csodáljuk meg a *.ppm* képformátum szépségeit."
   ]
  },
  {
   "cell_type": "code",
   "execution_count": 1,
   "metadata": {},
   "outputs": [
    {
     "name": "stdout",
     "output_type": "stream",
     "text": [
      "txt = P1\n",
      "# This is an example bitmap of the letter \"S\"\n",
      "6 10\n",
      "0 0 0 0 0 0\n",
      "0 0 1 1 1 0\n",
      "0 1 0 0 0 0\n",
      "0 1 0 0 0 0\n",
      "0 0 1 1 0 0\n",
      "0 0 0 0 1 0\n",
      "0 0 0 0 1 0\n",
      "0 1 1 1 0 0\n",
      "0 0 0 0 0 0\n",
      "0 0 0 0 0 0\n",
      "\n"
     ]
    }
   ],
   "source": [
    "txt = fileread(\"data/6-the-letter-s.ppm\")"
   ]
  },
  {
   "cell_type": "code",
   "execution_count": 2,
   "metadata": {},
   "outputs": [
    {
     "name": "stdout",
     "output_type": "stream",
     "text": [
      "A =\n",
      "\n",
      "  1  1  1  1  1  1\n",
      "  1  1  0  0  0  1\n",
      "  1  0  1  1  1  1\n",
      "  1  0  1  1  1  1\n",
      "  1  1  0  0  1  1\n",
      "  1  1  1  1  0  1\n",
      "  1  1  1  1  0  1\n",
      "  1  0  0  0  1  1\n",
      "  1  1  1  1  1  1\n",
      "  1  1  1  1  1  1\n",
      "\n"
     ]
    }
   ],
   "source": [
    "A = imread(\"data/6-the-letter-s.ppm\")"
   ]
  },
  {
   "cell_type": "code",
   "execution_count": 3,
   "metadata": {},
   "outputs": [
    {
     "data": {
      "image/png": "[encoded data removed]",
      "text/plain": [
       "<IPython.core.display.Image object>"
      ]
     },
     "metadata": {},
     "output_type": "display_data"
    }
   ],
   "source": [
    "imshow(A)"
   ]
  },
  {
   "cell_type": "markdown",
   "metadata": {},
   "source": [
    "#### 1. Feladat:\n",
    "\n",
    "Implementáljuk a <a href='https://en.wikipedia.org/wiki/Hill_cipher'>*Hill cipher*</a>-t. Titkosítsuk ezzel a fenti képet. Az adódó képet mentsük el *.ppm* formátumban."
   ]
  },
  {
   "cell_type": "code",
   "execution_count": 4,
   "metadata": {},
   "outputs": [
    {
     "name": "stdout",
     "output_type": "stream",
     "text": [
      "M =\n",
      "\n",
      "   0   1\n",
      "   1   0\n",
      "\n"
     ]
    }
   ],
   "source": [
    "M = [0, 1;\n",
    "     1, 0]"
   ]
  },
  {
   "cell_type": "code",
   "execution_count": 5,
   "metadata": {},
   "outputs": [
    {
     "name": "stdout",
     "output_type": "stream",
     "text": [
      "ans =  60\n",
      "ans =\n",
      "\n",
      "   1   1\n",
      "   1   1\n",
      "\n",
      "error: 'V' undefined near line 1 column 5\n"
     ]
    }
   ],
   "source": [
    "numel(A)\n",
    "\n",
    "[M * A(:)(1:2), M * A(:)(3:4)]\n",
    "\n",
    "M * V "
   ]
  },
  {
   "cell_type": "code",
   "execution_count": 6,
   "metadata": {},
   "outputs": [
    {
     "name": "stdout",
     "output_type": "stream",
     "text": [
      "ans =\n",
      "\n",
      " Columns 1 through 26:\n",
      "\n",
      "  1  1  1  1  1  1  0  1  1  1  1  1  0  1  1  1  1  0  1  1  1  1  1  0  1  1\n",
      "  1  1  1  1  1  1  0  1  0  1  0  1  1  0  1  0  1  1  0  1  0  1  0  1  1  1\n",
      "\n",
      " Columns 27 through 30:\n",
      "\n",
      "  1  1  1  1\n",
      "  1  1  1  1\n",
      "\n"
     ]
    }
   ],
   "source": [
    "reshape(A, [2 numel(A)/2])"
   ]
  },
  {
   "cell_type": "code",
   "execution_count": 7,
   "metadata": {},
   "outputs": [
    {
     "name": "stdout",
     "output_type": "stream",
     "text": [
      "ans =\n",
      "\n",
      " Columns 1 through 20:\n",
      "\n",
      "   1   1   1   1   1   1   0   1   0   1   0   1   1   0   1   0   1   1   0   1\n",
      "   1   1   1   1   1   1   0   1   1   1   1   1   0   1   1   1   1   0   1   1\n",
      "\n",
      " Columns 21 through 30:\n",
      "\n",
      "   0   1   0   1   1   1   1   1   1   1\n",
      "   1   1   1   0   1   1   1   1   1   1\n",
      "\n"
     ]
    }
   ],
   "source": [
    "M * reshape(A, [2 numel(A)/2])"
   ]
  },
  {
   "cell_type": "code",
   "execution_count": 8,
   "metadata": {},
   "outputs": [
    {
     "name": "stdout",
     "output_type": "stream",
     "text": [
      "A =\n",
      "\n",
      "  1  1  1  1  1  1\n",
      "  1  1  0  0  0  1\n",
      "  1  0  1  1  1  1\n",
      "  1  0  1  1  1  1\n",
      "  1  1  0  0  1  1\n",
      "  1  1  1  1  0  1\n",
      "  1  1  1  1  0  1\n",
      "  1  0  0  0  1  1\n",
      "  1  1  1  1  1  1\n",
      "  1  1  1  1  1  1\n",
      "\n"
     ]
    }
   ],
   "source": [
    "A"
   ]
  },
  {
   "cell_type": "code",
   "execution_count": 9,
   "metadata": {},
   "outputs": [
    {
     "name": "stdout",
     "output_type": "stream",
     "text": [
      "ans =\n",
      "\n",
      "   1   1   0   0   0   1\n",
      "   1   1   1   1   1   1\n",
      "   1   0   1   1   1   1\n",
      "   1   0   1   1   1   1\n",
      "   1   1   1   1   0   1\n",
      "   1   1   0   0   1   1\n",
      "   1   0   0   0   1   1\n",
      "   1   1   1   1   0   1\n",
      "   1   1   1   1   1   1\n",
      "   1   1   1   1   1   1\n",
      "\n"
     ]
    }
   ],
   "source": [
    "reshape(mod(M * reshape(A, [2 numel(A)/2]), 2), size(A))"
   ]
  },
  {
   "cell_type": "code",
   "execution_count": 10,
   "metadata": {},
   "outputs": [
    {
     "name": "stdout",
     "output_type": "stream",
     "text": [
      "M =\n",
      "\n",
      "   0   1   3\n",
      "   0   1   4\n",
      "   1   1   4\n",
      "\n"
     ]
    }
   ],
   "source": [
    "M = randi(5, 3, 3) - 1"
   ]
  },
  {
   "cell_type": "code",
   "execution_count": 11,
   "metadata": {},
   "outputs": [
    {
     "name": "stdout",
     "output_type": "stream",
     "text": [
      "ans =  1\n"
     ]
    }
   ],
   "source": [
    "mod(det(M), 5)"
   ]
  },
  {
   "cell_type": "code",
   "execution_count": 12,
   "metadata": {},
   "outputs": [],
   "source": [
    "function M = gen_invertible_mtx()\n",
    "    detM = 0;\n",
    "    \n",
    "    while detM == 0\n",
    "        M = randi(5, 3, 3) - 1;\n",
    "        detM = mod(det(M), 5);\n",
    "    end\n",
    "end"
   ]
  },
  {
   "cell_type": "code",
   "execution_count": 13,
   "metadata": {},
   "outputs": [
    {
     "name": "stdout",
     "output_type": "stream",
     "text": [
      "M =\n",
      "\n",
      "   3   1   4\n",
      "   3   4   0\n",
      "   4   1   2\n",
      "\n"
     ]
    }
   ],
   "source": [
    "M = gen_invertible_mtx()"
   ]
  },
  {
   "cell_type": "code",
   "execution_count": 14,
   "metadata": {},
   "outputs": [],
   "source": [
    "function M = gen_invertible_mtx_mod_m(m, num_rows)\n",
    "    gcdDetM = 0;\n",
    "    \n",
    "    while gcdDetM != 1\n",
    "        M = randi(m, num_rows) - 1;\n",
    "        gcdDetM = gcd(round(det(M)), m);\n",
    "    end\n",
    "end"
   ]
  },
  {
   "cell_type": "code",
   "execution_count": 15,
   "metadata": {},
   "outputs": [
    {
     "name": "stdout",
     "output_type": "stream",
     "text": [
      "ans =\n",
      "\n",
      "   6   7   0\n",
      "   1   2   8\n",
      "   1   5   9\n",
      "\n"
     ]
    }
   ],
   "source": [
    "gen_invertible_mtx_mod_m(10, 3)"
   ]
  },
  {
   "cell_type": "code",
   "execution_count": 16,
   "metadata": {},
   "outputs": [],
   "source": [
    "function r = inverse_mod_m(x, m)\n",
    "    [g, c] = gcd(x, m);\n",
    "    \n",
    "    r = mod(c, m);\n",
    "end\n",
    "\n",
    "assert([1 3 2 4], arrayfun(@(x)(inverse_mod_m(x, 5)), (1:5-1)))"
   ]
  },
  {
   "cell_type": "code",
   "execution_count": null,
   "metadata": {},
   "outputs": [],
   "source": [
    "function B = matrix_inverse_mod_m(A, m)\n",
    "    % adjoint from Symbolic Math Toolbox\n",
    "    B = inverse_mod_m(det(A), m) * adjoint(A);\n",
    "end\n",
    "\n",
    "matrix_inverse_mod_m([0 1; 1 0], 2)"
   ]
  },
  {
   "cell_type": "markdown",
   "metadata": {},
   "source": [
    "#### 2. Feladat:\n",
    "\n",
    "Alkalmazzuk a fenti eljárást (angol, kisbetűs) szöveg titkosítására. A véletlenszerűen generált mátrixunk legyen egy permutációs mátrix."
   ]
  },
  {
   "cell_type": "code",
   "execution_count": null,
   "metadata": {},
   "outputs": [],
   "source": []
  }
 ],
 "metadata": {
  "kernelspec": {
   "display_name": "Octave",
   "language": "octave",
   "name": "octave"
  },
  "language_info": {
   "file_extension": ".m",
   "help_links": [
    {
     "text": "GNU Octave",
     "url": "https://www.gnu.org/software/octave/support.html"
    },
    {
     "text": "Octave Kernel",
     "url": "https://github.com/Calysto/octave_kernel"
    },
    {
     "text": "MetaKernel Magics",
     "url": "https://metakernel.readthedocs.io/en/latest/source/README.html"
    }
   ],
   "mimetype": "text/x-octave",
   "name": "octave",
   "version": "5.2.0"
  }
 },
 "nbformat": 4,
 "nbformat_minor": 4
}
